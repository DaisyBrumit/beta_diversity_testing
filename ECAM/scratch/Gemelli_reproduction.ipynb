{
 "cells": [
  {
   "cell_type": "markdown",
   "id": "3d22bcf1",
   "metadata": {},
   "source": [
    "## Gemelli Reproduction"
   ]
  },
  {
   "cell_type": "markdown",
   "id": "2bbda468",
   "metadata": {},
   "source": [
    "### Import & Filter"
   ]
  },
  {
   "cell_type": "code",
   "execution_count": null,
   "id": "84cbed71",
   "metadata": {},
   "outputs": [],
   "source": [
    "!pip install "
   ]
  },
  {
   "cell_type": "code",
   "execution_count": 1,
   "id": "5d4e4ebd",
   "metadata": {},
   "outputs": [
    {
     "ename": "ModuleNotFoundError",
     "evalue": "No module named 'biom'",
     "output_type": "error",
     "traceback": [
      "\u001b[0;31m---------------------------------------------------------------------------\u001b[0m",
      "\u001b[0;31mModuleNotFoundError\u001b[0m                       Traceback (most recent call last)",
      "Cell \u001b[0;32mIn[1], line 2\u001b[0m\n\u001b[1;32m      1\u001b[0m \u001b[38;5;28;01mimport\u001b[39;00m \u001b[38;5;21;01mos\u001b[39;00m\n\u001b[0;32m----> 2\u001b[0m \u001b[38;5;28;01mimport\u001b[39;00m \u001b[38;5;21;01mbiom\u001b[39;00m\n\u001b[1;32m      3\u001b[0m \u001b[38;5;28;01mimport\u001b[39;00m \u001b[38;5;21;01mqiime2\u001b[39;00m \u001b[38;5;28;01mas\u001b[39;00m \u001b[38;5;21;01mq2\u001b[39;00m\n\u001b[1;32m      4\u001b[0m \u001b[38;5;28;01mimport\u001b[39;00m \u001b[38;5;21;01mpandas\u001b[39;00m \u001b[38;5;28;01mas\u001b[39;00m \u001b[38;5;21;01mpd\u001b[39;00m\n",
      "\u001b[0;31mModuleNotFoundError\u001b[0m: No module named 'biom'"
     ]
    }
   ],
   "source": [
    "import os\n",
    "import biom\n",
    "import qiime2 as q2\n",
    "import pandas as pd\n",
    "import numpy as np\n",
    "\n",
    "from qiime2 import Artifact\n",
    "from qiime2 import Metadata\n",
    "from qiime2.plugins.feature_table.methods import rarefy\n",
    "from qiime2.plugins.gemelli.actions import (ctf, phylogenetic_ctf_without_taxonomy)\n",
    "from qiime2.plugins.diversity.actions import (beta, beta_phylogenetic)\n",
    "\n",
    "from skbio import TreeNode\n",
    "from skbio.stats.distance import (DistanceMatrix, permanova)\n",
    "\n",
    "meta_in = pd.read_table('./data/metadata-matched.tsv', index_col=0) # read in meta\n",
    "bt_in = biom.load_table('./data/table.biom') # read in biom\n",
    "df = pd.DataFrame(bt_in.to_dataframe()) # convert to df\n",
    "\n",
    "# filter out metadata (dims match)\n",
    "meta = meta_in[~meta_in.month.isin([0,15,19])] # remove some months\n",
    "meta = meta[meta.mom_child == 'C'] # filter for relationship\n",
    "meta['host_subject_id_str'] = 'subject_' + meta['host_subject_id'].astype(int).astype(str) # create string var for ids\n",
    "\n",
    "# apply filters to data\n",
    "shared_ids = set(df.columns) & set(meta.index)\n",
    "df = df.filter(shared_ids) # dims match\n",
    "mask = df.sum(axis=1) > 1 # filter for multiple observations (row sums to > 1)\n",
    "df = df[mask]\n",
    "df = df.loc[:, df.sum() > 0] # filter for multiple feature instances (col sums to > 1)\n",
    "\n",
    "# convert to biom, prep for rarefaction\n",
    "bt = biom.Table(df.values, observation_ids=df.index, sample_ids=df.columns)\n",
    "r_depth = int(np.percentile(bt.sum('sample'), 25)) # further filter for rarefaction step\n",
    "keep_ids = bt.ids()[bt.sum('sample') > r_depth]\n",
    "bt = bt.filter(keep_ids)\n",
    "\n",
    "# reindex meta\n",
    "meta = meta.reindex(bt.ids())"
   ]
  },
  {
   "cell_type": "code",
   "execution_count": 7,
   "id": "ffad8464",
   "metadata": {},
   "outputs": [],
   "source": [
    "# WRITE OUT FILTERED DATA AS A BIOM FILE, META AS TSV\n",
    "bt_out_path = './data/filtered_table.biom'\n",
    "with biom.util.biom_open(bt_out_path, 'w') as f:\n",
    "    bt.to_hdf5(f, 'scotty')\n",
    "\n",
    "meta.index.name = '#SampleID'\n",
    "meta.to_csv('./data/filtered_meta.tsv', sep='\\t', index=True)"
   ]
  },
  {
   "cell_type": "markdown",
   "id": "b898b71c",
   "metadata": {},
   "source": [
    "### Rarefy"
   ]
  },
  {
   "cell_type": "code",
   "execution_count": 8,
   "id": "3c8a56b4",
   "metadata": {},
   "outputs": [],
   "source": [
    "# bt == filtered (biom) version of original counts table\n",
    "# meta == original metadata filtered to only retained bt samples\n",
    "\n",
    "table = Artifact.import_data('FeatureTable[Frequency]', bt) # convert bt to q2 artifact\n",
    "rare_table = rarefy(table, r_depth, with_replacement=True).rarefied_table # table used for non-gemelli methods\n",
    "\n",
    "bt = bt.filter(rare_table.view(biom.Table).ids('observation'), axis='observation') # filter bt obs by rarefied out\n",
    "table = Artifact.import_data('FeatureTable[Frequency]', bt) # reimport\n",
    "rare_meta = meta.reindex(bt.ids()) # reindex metadata\n",
    "\n",
    "# prune tree\n",
    "#tree = TreeNode.read('./data/insertion-tree.nwk')\n",
    "#tree = tree.shear(bt.ids('observation'))\n",
    "#tree.prune()"
   ]
  },
  {
   "cell_type": "code",
   "execution_count": 9,
   "id": "4b10eb65",
   "metadata": {},
   "outputs": [
    {
     "name": "stdout",
     "output_type": "stream",
     "text": [
      "bt:  (1704, 483)\n",
      "rare_bt:  (1704, 483)\n"
     ]
    }
   ],
   "source": [
    "# CHECK DIMS\n",
    "rare_bt = rare_table.view(biom.Table)\n",
    "print('bt: ', bt.shape)\n",
    "print('rare_bt: ', rare_bt.shape)\n",
    "\n",
    "# WRITE OUT DATA\n",
    "bt_out_path = './data/post_rare_filtered_table.biom'\n",
    "with biom.util.biom_open(bt_out_path, 'w') as f:\n",
    "    bt.to_hdf5(f, 'scotty')\n",
    "\n",
    "rare_meta.index.name = '#SampleID'\n",
    "meta.to_csv('./data/post_rare_filtered_meta.tsv', sep='\\t', index=True)\n",
    "#tree.write('./data/pruned_tree.nwk')"
   ]
  },
  {
   "cell_type": "markdown",
   "id": "aad425fb",
   "metadata": {},
   "source": [
    "### Transform"
   ]
  },
  {
   "cell_type": "code",
   "execution_count": 23,
   "id": "d96a517c",
   "metadata": {},
   "outputs": [
    {
     "name": "stdout",
     "output_type": "stream",
     "text": [
      "Running external command line application. This may print messages to stdout and/or stderr.\n",
      "The command being run is below. This command cannot be manually re-run as it will depend on temporary files that no longer exist.\n",
      "\n",
      "Command:\n",
      "\n",
      "ssu -i /var/folders/zw/ktw6tcq52bg052fqwjgzj7kr0000gn/T/qiime2/dfrybrum/data/35386216-5eb4-45df-b6ca-d7c32ebaa988/data/feature-table.biom -t /var/folders/zw/ktw6tcq52bg052fqwjgzj7kr0000gn/T/qiime2/dfrybrum/data/224db336-889d-40c4-9592-93c38da68d87/data/tree.nwk -m unweighted -o /var/folders/zw/ktw6tcq52bg052fqwjgzj7kr0000gn/T/q2-LSMatFormat-dved3ncb\n",
      "\n",
      "Running external command line application. This may print messages to stdout and/or stderr.\n",
      "The command being run is below. This command cannot be manually re-run as it will depend on temporary files that no longer exist.\n",
      "\n",
      "Command:\n",
      "\n",
      "ssu -i /var/folders/zw/ktw6tcq52bg052fqwjgzj7kr0000gn/T/qiime2/dfrybrum/data/35386216-5eb4-45df-b6ca-d7c32ebaa988/data/feature-table.biom -t /var/folders/zw/ktw6tcq52bg052fqwjgzj7kr0000gn/T/qiime2/dfrybrum/data/224db336-889d-40c4-9592-93c38da68d87/data/tree.nwk -m weighted_unnormalized -o /var/folders/zw/ktw6tcq52bg052fqwjgzj7kr0000gn/T/q2-LSMatFormat-uj_wj32g\n",
      "\n"
     ]
    }
   ],
   "source": [
    "tree = Artifact.load('./data/insertion-tree.qza')\n",
    "# Gemelli methods\n",
    "#phylo_ctf_table = phylogenetic_ctf_without_taxonomy(table, Metadata(meta_q2), 'host_subject_id_str', 'month', \n",
    "#                                                    min_depth=100)\n",
    "#ctf_table = ctf(table, Metadata(meta_q2), 'host_subject_id_str', 'month', n_components=2, n_initializations=5,\n",
    "#               max_iterations_rptm=5, max_iterations_als=5)\n",
    "\n",
    "# run in cml, see screenshot\n",
    "\n",
    "# Phylogenetic methods\n",
    "u_unifrac = beta_phylogenetic(rare_table, tree, 'unweighted_unifrac')\n",
    "w_unifrac = beta_phylogenetic(rare_table, tree, 'weighted_unifrac')\n",
    "\n",
    "# Naive methods\n",
    "bray_curtis = beta(rare_table, 'braycurtis')\n",
    "jaccard = beta(rare_table, 'jaccard')"
   ]
  },
  {
   "cell_type": "code",
   "execution_count": 25,
   "id": "62d2cd8f",
   "metadata": {},
   "outputs": [],
   "source": [
    "# Isolate matrices\n",
    "phylo_ctf_dm = Artifact.load('./data/phylo_ctf_out/distance_matrix.qza').view(DistanceMatrix)\n",
    "ctf_dm = Artifact.load('./data/ctf_out/distance_matrix.qza').view(DistanceMatrix)\n",
    "u_unifrac_dm = u_unifrac.distance_matrix.view(DistanceMatrix) \n",
    "w_unifrac_dm = w_unifrac.distance_matrix.view(DistanceMatrix)\n",
    "bray_curtis_dm = bray_curtis.distance_matrix.view(DistanceMatrix) \n",
    "jaccard_unifrac_dm = jaccard.distance_matrix.view(DistanceMatrix)\n",
    "\n",
    "dist_dict = {'Phylo-CTF:':phylo_ctf_dm,\n",
    "            'CTF:':ctf_dm,\n",
    "            'Unweighted-Unifrac:':u_unifrac_dm,\n",
    "            'Weighted-Unifrac:':w_unifrac_dm,\n",
    "            'Bray-Curtis:':bray_curtis_dm,\n",
    "            'Jaccard:':jaccard_unifrac_dm\n",
    "            }"
   ]
  },
  {
   "cell_type": "markdown",
   "id": "c5b0ae1f",
   "metadata": {},
   "source": [
    "### PERMANOVA"
   ]
  },
  {
   "cell_type": "code",
   "execution_count": 44,
   "id": "98d36711",
   "metadata": {},
   "outputs": [],
   "source": [
    "import warnings\n",
    "warnings.simplefilter(action='ignore', category=FutureWarning)"
   ]
  },
  {
   "cell_type": "code",
   "execution_count": 56,
   "id": "66e138ba",
   "metadata": {},
   "outputs": [],
   "source": [
    "permanova_out = {}\n",
    "fstat_tmp = {}\n",
    "\n",
    "for method in dist_dict:\n",
    "    \n",
    "    dist_tmp = dist_dict[method]\n",
    "    meta_tmp = rare_meta.loc[dist_tmp.ids, ['delivery', 'month']].dropna()\n",
    "    \n",
    "    for timepoint, time_df in meta_tmp.groupby('month'):\n",
    "        \n",
    "        ids = set(dist_tmp.ids) & set(time_df.index)\n",
    "        \n",
    "        if len(set(meta_tmp.loc[ids, 'delivery'])) < 2:\n",
    "                continue \n",
    "        if meta_tmp.loc[ids, 'delivery'].value_counts().min() < 2:\n",
    "                continue\n",
    "            \n",
    "        dist_tmp_time = dist_tmp.copy().filter(ids)\n",
    "        permanova_tmp = permanova(dist_tmp_time, meta_tmp.loc[ids, 'delivery'], permutations=999)\n",
    "        \n",
    "        fstat_tmp[(method, timepoint, 'F-Stat')] = [permanova_tmp['test statistic']]\n",
    "        \n",
    "fstat_tmp_df = pd.DataFrame(fstat_tmp, ['score']).T.reset_index()\n",
    "fstat_tmp_df.columns = ['method','fold','evaluation','score']\n",
    "permanova_out[('delivery')] = fstat_tmp_df"
   ]
  },
  {
   "cell_type": "code",
   "execution_count": null,
   "id": "4fd0e033",
   "metadata": {
    "collapsed": true
   },
   "outputs": [],
   "source": []
  },
  {
   "cell_type": "code",
   "execution_count": 57,
   "id": "45028599",
   "metadata": {},
   "outputs": [],
   "source": [
    "fstat_tmp_df.to_csv('./data/permanova.tsv', sep='\\t')"
   ]
  }
 ],
 "metadata": {
  "kernelspec": {
   "display_name": "Python 3 (ipykernel)",
   "language": "python",
   "name": "python3"
  },
  "language_info": {
   "codemirror_mode": {
    "name": "ipython",
    "version": 3
   },
   "file_extension": ".py",
   "mimetype": "text/x-python",
   "name": "python",
   "nbconvert_exporter": "python",
   "pygments_lexer": "ipython3",
   "version": "3.8.18"
  }
 },
 "nbformat": 4,
 "nbformat_minor": 5
}
